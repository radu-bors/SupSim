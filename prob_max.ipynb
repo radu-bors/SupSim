{
 "cells": [
  {
   "cell_type": "code",
   "execution_count": 1,
   "metadata": {},
   "outputs": [],
   "source": [
    "import pandas as pd\n",
    "import datetime"
   ]
  },
  {
   "cell_type": "code",
   "execution_count": 2,
   "metadata": {},
   "outputs": [
    {
     "name": "stdout",
     "output_type": "stream",
     "text": [
      "                             customer_no  location        day   day_id\n",
      "day_id  date                                                          \n",
      "fri-1   2019-09-06 07:00:00            1     dairy     friday    fri-1\n",
      "        2019-09-06 07:01:00            1     dairy     friday    fri-1\n",
      "        2019-09-06 07:02:00            1     dairy     friday    fri-1\n",
      "        2019-09-06 07:03:00            1     dairy     friday    fri-1\n",
      "        2019-09-06 07:04:00            1    spices     friday    fri-1\n",
      "...                                  ...       ...        ...      ...\n",
      "wed-998 2019-09-04 16:57:00          998     fruit  wednesday  wed-998\n",
      "        2019-09-04 16:58:00          998     fruit  wednesday  wed-998\n",
      "        2019-09-04 16:59:00          998  checkout  wednesday  wed-998\n",
      "wed-999 2019-09-04 16:53:00          999     fruit  wednesday  wed-999\n",
      "        2019-09-04 16:54:00          999  checkout  wednesday  wed-999\n",
      "\n",
      "[54192 rows x 4 columns]\n"
     ]
    }
   ],
   "source": [
    "def load_for_matrix():\n",
    "    df = pd.read_csv('data/total.csv')\n",
    "    df.rename(columns= {'Unnamed: 0': 'date'}, inplace=True)\n",
    "    df.date = pd.to_datetime(df.date)\n",
    "    df.set_index('date', inplace=True)\n",
    "    df = df.groupby('day_id').resample('1Min').ffill()\n",
    "    df = pd.DataFrame(df)\n",
    "    print(df)\n",
    "    return df\n",
    "load_for_matrix()"
   ]
  },
  {
   "cell_type": "code",
   "execution_count": null,
   "metadata": {},
   "outputs": [],
   "source": [
    "def generate_prob_matrix(df):\n",
    "    \"\"\"This function takes a dataframe with customer movements over time inside the store. It generates a probability matrix of size N x N. where N is the total number of locations in the store. The matrix contains the probabilities that a customer will go to the next location based on the current one within the time defined by the timestep in the dataframe. It is meant to be used further in a Markov chain Monte Carlo simulation.\n",
    "\n",
    "    INPUT ARGUMENTS:\n",
    "        -df -> pandas DataFrame with a timedate index, customer_ID and location at every timestep.\n",
    "\n",
    "    OUTPUT:\n",
    "        -prob_matrix -> matrix where each element is the probability to transition from one state to another in a Markov chain simulation. \n",
    "    \"\"\"\n",
    "    \n",
    "    # create empty series that will be populated with the current and previous locations for each customer\n",
    "    loc_now = pd.Series(dtype=object)\n",
    "    loc_before = pd.Series(dtype=object)\n",
    "    \n",
    "    # iterate through all customer IDs\n",
    "    for customer_id in df.day_id.unique():\n",
    "        \n",
    "        # find the current and previous locations for just the current customer\n",
    "        loc_per_customer = df[df['day_id'] ==  customer_id]['location']\n",
    "        loc_per_customer_before = loc_per_customer.shift(1)\n",
    "        \n",
    "        # shifting data will create NaN values for previous locations; they will be replaced with 'entrance'\n",
    "        loc_per_customer_before.fillna('entrance',\n",
    "                               inplace=True)\n",
    "        \n",
    "        # add the current and previous locations to the series\n",
    "        loc_now = pd.concat([loc_now,\n",
    "                            loc_per_customer])\n",
    "        loc_before = pd.concat([loc_before,\n",
    "                                loc_per_customer_before])    \n",
    "    \n",
    "    # generate transition probability matrix\n",
    "    prob_matrix = pd.crosstab(loc_before, \n",
    "                            loc_now,\n",
    "                            normalize='index')\n",
    "    print(prob_matrix)\n",
    "    return [loc_before, loc_now]"
   ]
  },
  {
   "cell_type": "code",
   "execution_count": null,
   "metadata": {},
   "outputs": [],
   "source": [
    "generate_prob_matrix(df)"
   ]
  },
  {
   "cell_type": "code",
   "execution_count": null,
   "metadata": {},
   "outputs": [],
   "source": []
  }
 ],
 "metadata": {
  "kernelspec": {
   "display_name": "base",
   "language": "python",
   "name": "python3"
  },
  "language_info": {
   "codemirror_mode": {
    "name": "ipython",
    "version": 3
   },
   "file_extension": ".py",
   "mimetype": "text/x-python",
   "name": "python",
   "nbconvert_exporter": "python",
   "pygments_lexer": "ipython3",
   "version": "3.10.9"
  },
  "orig_nbformat": 4
 },
 "nbformat": 4,
 "nbformat_minor": 2
}
