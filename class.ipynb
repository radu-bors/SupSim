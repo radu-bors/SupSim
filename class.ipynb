{
 "cells": [
  {
   "cell_type": "code",
   "execution_count": 2,
   "metadata": {},
   "outputs": [],
   "source": [
    "import numpy as np\n",
    "import random\n",
    "import pandas as pd"
   ]
  },
  {
   "cell_type": "code",
   "execution_count": 16,
   "metadata": {},
   "outputs": [],
   "source": [
    "class Customer():\n",
    "    '''\n",
    "    Customer class for movement, activity and something\n",
    "    '''\n",
    "    \n",
    "    def __init__(self, name , location, transition_probs=1):\n",
    "        self.name = name    # is it possible to display the day_id here?\n",
    "        self.location = location\n",
    "        self.transition_probs = transition_probs\n",
    "\n",
    "        '''self.tr_array_dict = {\n",
    "        'dairy' : self.transition_mat[0,:],\n",
    "        'drinks' : self.transition_mat[1,:],\n",
    "        'entry' : self.transition_mat[2,:],\n",
    "        'fruit' : self.transition_mat[3,:],\n",
    "        'spices' : self.transition_mat[4,:]\n",
    "        }'''\n",
    "        \n",
    "        #location of customer and the location after \n",
    "        #method move\n",
    "        \n",
    "\n",
    "    def next_state(self):\n",
    "        '''\n",
    "        Propagates the customer to the next state\n",
    "        using a weighted random choice from the transition probabilities\n",
    "        conditional on the current state.\n",
    "        Returns nothing.\n",
    "        '''\n",
    "        print('i want to move.')\n",
    "\n",
    "        self.state = np.random.choice(\n",
    "            ['checkout', 'dairy', 'drinks', 'fruit', 'spices'], \n",
    "            p=self.tr_array_dict[f'{self.location}']\n",
    "            )\n",
    "                \n",
    "    def is_active(self):\n",
    "        '''\n",
    "        returns True if the customer has not reached the checkout yet.\n",
    "        '''\n",
    "        print('i´m moving.')\n",
    "        \n",
    "        if self.location != 'checkout':\n",
    "             return True\n",
    "        if self.location == 'checkout':\n",
    "            return False\n",
    "    \n",
    "    def __repr__(self):\n",
    "        return f'<Customer {self.name} in {self.location}>'\n",
    "     "
   ]
  },
  {
   "cell_type": "code",
   "execution_count": 20,
   "metadata": {},
   "outputs": [],
   "source": [
    "cust1 = Customer('Jake', 'drinks')\n",
    "cust2 = Customer('Margaret', 'checkout')"
   ]
  },
  {
   "cell_type": "code",
   "execution_count": 21,
   "metadata": {},
   "outputs": [
    {
     "name": "stdout",
     "output_type": "stream",
     "text": [
      "Jake drinks\n",
      "<Customer Margaret in checkout>\n"
     ]
    }
   ],
   "source": [
    "print(cust1.name, cust1.location)\n",
    "print(cust2)"
   ]
  },
  {
   "cell_type": "code",
   "execution_count": 22,
   "metadata": {},
   "outputs": [
    {
     "name": "stdout",
     "output_type": "stream",
     "text": [
      "i want to move.\n"
     ]
    },
    {
     "ename": "AttributeError",
     "evalue": "'Customer' object has no attribute 'tr_array_dict'",
     "output_type": "error",
     "traceback": [
      "\u001b[0;31m---------------------------------------------------------------------------\u001b[0m",
      "\u001b[0;31mAttributeError\u001b[0m                            Traceback (most recent call last)",
      "Cell \u001b[0;32mIn[22], line 1\u001b[0m\n\u001b[0;32m----> 1\u001b[0m \u001b[39mprint\u001b[39m(cust1\u001b[39m.\u001b[39;49mnext_state())\n",
      "Cell \u001b[0;32mIn[16], line 34\u001b[0m, in \u001b[0;36mCustomer.next_state\u001b[0;34m(self)\u001b[0m\n\u001b[1;32m     24\u001b[0m \u001b[39m'''\u001b[39;00m\n\u001b[1;32m     25\u001b[0m \u001b[39mPropagates the customer to the next state\u001b[39;00m\n\u001b[1;32m     26\u001b[0m \u001b[39musing a weighted random choice from the transition probabilities\u001b[39;00m\n\u001b[1;32m     27\u001b[0m \u001b[39mconditional on the current state.\u001b[39;00m\n\u001b[1;32m     28\u001b[0m \u001b[39mReturns nothing.\u001b[39;00m\n\u001b[1;32m     29\u001b[0m \u001b[39m'''\u001b[39;00m\n\u001b[1;32m     30\u001b[0m \u001b[39mprint\u001b[39m(\u001b[39m'\u001b[39m\u001b[39mi want to move.\u001b[39m\u001b[39m'\u001b[39m)\n\u001b[1;32m     32\u001b[0m \u001b[39mself\u001b[39m\u001b[39m.\u001b[39mstate \u001b[39m=\u001b[39m np\u001b[39m.\u001b[39mrandom\u001b[39m.\u001b[39mchoice(\n\u001b[1;32m     33\u001b[0m     [\u001b[39m'\u001b[39m\u001b[39mcheckout\u001b[39m\u001b[39m'\u001b[39m, \u001b[39m'\u001b[39m\u001b[39mdairy\u001b[39m\u001b[39m'\u001b[39m, \u001b[39m'\u001b[39m\u001b[39mdrinks\u001b[39m\u001b[39m'\u001b[39m, \u001b[39m'\u001b[39m\u001b[39mfruit\u001b[39m\u001b[39m'\u001b[39m, \u001b[39m'\u001b[39m\u001b[39mspices\u001b[39m\u001b[39m'\u001b[39m], \n\u001b[0;32m---> 34\u001b[0m     p\u001b[39m=\u001b[39m\u001b[39mself\u001b[39;49m\u001b[39m.\u001b[39;49mtr_array_dict[\u001b[39mf\u001b[39m\u001b[39m'\u001b[39m\u001b[39m{\u001b[39;00m\u001b[39mself\u001b[39m\u001b[39m.\u001b[39mstate\u001b[39m}\u001b[39;00m\u001b[39m'\u001b[39m]\n\u001b[1;32m     35\u001b[0m     )\n",
      "\u001b[0;31mAttributeError\u001b[0m: 'Customer' object has no attribute 'tr_array_dict'"
     ]
    }
   ],
   "source": [
    "print(cust1.next_state())"
   ]
  },
  {
   "cell_type": "code",
   "execution_count": 14,
   "metadata": {},
   "outputs": [
    {
     "name": "stdout",
     "output_type": "stream",
     "text": [
      "i´m moving.\n"
     ]
    }
   ],
   "source": [
    "cust1.is_active()"
   ]
  },
  {
   "cell_type": "code",
   "execution_count": null,
   "metadata": {},
   "outputs": [],
   "source": []
  }
 ],
 "metadata": {
  "kernelspec": {
   "display_name": "base",
   "language": "python",
   "name": "python3"
  },
  "language_info": {
   "codemirror_mode": {
    "name": "ipython",
    "version": 3
   },
   "file_extension": ".py",
   "mimetype": "text/x-python",
   "name": "python",
   "nbconvert_exporter": "python",
   "pygments_lexer": "ipython3",
   "version": "3.10.9"
  },
  "orig_nbformat": 4
 },
 "nbformat": 4,
 "nbformat_minor": 2
}
