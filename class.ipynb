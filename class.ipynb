{
 "cells": [
  {
   "cell_type": "code",
   "execution_count": 45,
   "metadata": {},
   "outputs": [],
   "source": [
    "import numpy as np\n",
    "import random\n",
    "import pandas as pd\n",
    "import seaborn as sns\n",
    "import matplotlib.pyplot as plt"
   ]
  },
  {
   "cell_type": "code",
   "execution_count": 50,
   "metadata": {},
   "outputs": [],
   "source": [
    "class Customer():\n",
    "    '''\n",
    "    Customer class for movement, activity and something\n",
    "    '''\n",
    "    def __init__(self, name , state, transition_probs=1, budget=100):\n",
    "        self.name = name\n",
    "        self.state = state\n",
    "        self.budget = budget\n",
    "        self.transition_probs = transition_probs\n",
    "        \n",
    "\n",
    "    def next_state(self):\n",
    "        '''Propagates the customer to the next state.\n",
    "        returns nothing.\n",
    "        '''\n",
    "        '''Modify the next_state() method to use the transition probability matrix. \n",
    "        You will need to do a weighted choice. \n",
    "        Consider using random.choices() or np.random.choice().'''\n",
    "        self.state = random.choice(['spices', 'drinks', 'fruit']) \n",
    "        \n",
    "    def is_active(self):\n",
    "        '''\n",
    "        returns True if the customer has not reached the checkout yet.\n",
    "        '''\n",
    "        print('i´m moving.')\n",
    "        #self.transition_probs = transition_probs\n",
    "    \n",
    "    def __repr__(self):\n",
    "        return f'<Customer {self.name} in {self.state}>'\n",
    "     "
   ]
  },
  {
   "cell_type": "code",
   "execution_count": 51,
   "metadata": {},
   "outputs": [],
   "source": [
    "cust1 = Customer('Jake', 'drinks', 50)\n",
    "cust2 = Customer('Margaret', 'spices')"
   ]
  },
  {
   "cell_type": "code",
   "execution_count": 52,
   "metadata": {},
   "outputs": [
    {
     "name": "stdout",
     "output_type": "stream",
     "text": [
      "Jake drinks\n",
      "Margaret 100\n",
      "<Customer Jake in drinks>\n"
     ]
    }
   ],
   "source": [
    "print(cust1.name, cust1.state)\n",
    "print(cust2.name, cust2.budget)\n",
    "print(cust1)"
   ]
  },
  {
   "cell_type": "code",
   "execution_count": 53,
   "metadata": {},
   "outputs": [
    {
     "name": "stdout",
     "output_type": "stream",
     "text": [
      "None\n"
     ]
    }
   ],
   "source": [
    "print(cust1.next_state())"
   ]
  },
  {
   "cell_type": "code",
   "execution_count": 54,
   "metadata": {},
   "outputs": [
    {
     "name": "stdout",
     "output_type": "stream",
     "text": [
      "i´m moving.\n"
     ]
    }
   ],
   "source": [
    "cust1.is_active()"
   ]
  },
  {
   "cell_type": "code",
   "execution_count": null,
   "metadata": {},
   "outputs": [],
   "source": []
  }
 ],
 "metadata": {
  "kernelspec": {
   "display_name": "base",
   "language": "python",
   "name": "python3"
  },
  "language_info": {
   "codemirror_mode": {
    "name": "ipython",
    "version": 3
   },
   "file_extension": ".py",
   "mimetype": "text/x-python",
   "name": "python",
   "nbconvert_exporter": "python",
   "pygments_lexer": "ipython3",
   "version": "3.10.9"
  },
  "orig_nbformat": 4
 },
 "nbformat": 4,
 "nbformat_minor": 2
}
