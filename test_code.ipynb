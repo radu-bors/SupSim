{
 "cells": [
  {
   "cell_type": "code",
   "execution_count": 1,
   "metadata": {},
   "outputs": [],
   "source": [
    "import pandas as pd\n",
    "import numpy as np\n",
    "\n",
    "import functions.load_data as load_data\n",
    "import functions.generate_prob_matrix as gen_matrix\n",
    "import functions.start_simulation as start_simulation\n",
    "\n",
    "import classes.customer as customer\n",
    "import classes.supermarket as supermarket\n",
    "import classes.tile as tile"
   ]
  },
  {
   "cell_type": "code",
   "execution_count": 2,
   "metadata": {},
   "outputs": [
    {
     "name": "stdout",
     "output_type": "stream",
     "text": [
      "*** S T A R T ***\n",
      "data was loaded.\n",
      "\n",
      " *** N E W   C O L U M N S ***\n",
      "new columns were added.\n",
      "\n",
      " *** A D D   N O   C H E C K O U T ***\n",
      "a list of non checkouts was built\n",
      "a list of non checkouts was built\n",
      "a list of non checkouts was built\n",
      "a list of non checkouts was built\n",
      "a list of non checkouts was built\n",
      "the checkout was added to the data-frame/customers for monday.\n",
      "the checkout was added to the data-frame/customers for tuesday.\n",
      "the checkout was added to the data-frame/customers for wednesday.\n",
      "the checkout was added to the data-frame/customers for thursday.\n",
      "the checkout was added to the data-frame/customers for friday.\n"
     ]
    }
   ],
   "source": [
    "# read data from file and do preprocessing\n",
    "total = load_data.ETL_data()"
   ]
  },
  {
   "cell_type": "code",
   "execution_count": 3,
   "metadata": {},
   "outputs": [],
   "source": [
    "# generate probability matrix\n",
    "prob_matrix = gen_matrix.generate_prob_matrix(total)"
   ]
  },
  {
   "cell_type": "code",
   "execution_count": 4,
   "metadata": {},
   "outputs": [],
   "source": [
    "# start simulation\n",
    "simulated_states = start_simulation.start_simulation(prob_matrix)"
   ]
  },
  {
   "cell_type": "code",
   "execution_count": 12,
   "metadata": {},
   "outputs": [
    {
     "data": {
      "text/plain": [
       "'entrance'"
      ]
     },
     "execution_count": 12,
     "metadata": {},
     "output_type": "execute_result"
    }
   ],
   "source": [
    "simulated_states[0].grid[0,0].location"
   ]
  },
  {
   "cell_type": "code",
   "execution_count": null,
   "metadata": {},
   "outputs": [],
   "source": [
    "[[1,1],[1,2],[1,3]]"
   ]
  },
  {
   "cell_type": "code",
   "execution_count": 9,
   "metadata": {},
   "outputs": [
    {
     "data": {
      "text/plain": [
       "array([[0., 0., 0.],\n",
       "       [0., 0., 0.],\n",
       "       [0., 0., 0.]])"
      ]
     },
     "execution_count": 9,
     "metadata": {},
     "output_type": "execute_result"
    }
   ],
   "source": [
    "np.empty([3,3])"
   ]
  },
  {
   "cell_type": "code",
   "execution_count": 5,
   "metadata": {},
   "outputs": [
    {
     "data": {
      "text/plain": [
       "True"
      ]
     },
     "execution_count": 5,
     "metadata": {},
     "output_type": "execute_result"
    }
   ],
   "source": [
    "[1,1] == [1,1]"
   ]
  },
  {
   "cell_type": "code",
   "execution_count": 7,
   "metadata": {},
   "outputs": [
    {
     "data": {
      "text/plain": [
       "0.8575618329702702"
      ]
     },
     "execution_count": 7,
     "metadata": {},
     "output_type": "execute_result"
    }
   ],
   "source": [
    "import random\n",
    "random.random()"
   ]
  },
  {
   "cell_type": "code",
   "execution_count": null,
   "metadata": {},
   "outputs": [],
   "source": []
  }
 ],
 "metadata": {
  "kernelspec": {
   "display_name": "base",
   "language": "python",
   "name": "python3"
  },
  "language_info": {
   "codemirror_mode": {
    "name": "ipython",
    "version": 3
   },
   "file_extension": ".py",
   "mimetype": "text/x-python",
   "name": "python",
   "nbconvert_exporter": "python",
   "pygments_lexer": "ipython3",
   "version": "3.10.11"
  },
  "orig_nbformat": 4
 },
 "nbformat": 4,
 "nbformat_minor": 2
}
